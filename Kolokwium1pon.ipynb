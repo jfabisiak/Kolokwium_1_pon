{
 "cells": [
  {
   "attachments": {},
   "cell_type": "markdown",
   "id": "87311733",
   "metadata": {},
   "source": [
    "## Automatyzacja-Python Kolokwium 1 - 22.05.2023\n",
    "\n",
    "Podczas kolokwium obowiązuje zakaz używania chatGPT oraz innych narzędzi AI oraz komunikacji z osobami z sali lub poza nią. Osoby korzystające z ww. narzędzi lub komunikatorów czy też rozmawiające z osobami z sali otrzymają 0pkt. z kolokwium. Dopuszczalne jest korzystanie z materiałów wykładowych, dokumentacji oraz stackoverflowa."
   ]
  },
  {
   "attachments": {},
   "cell_type": "markdown",
   "id": "07b7deca",
   "metadata": {},
   "source": [
    "## Zadanie 1 (4pkt)\n",
    " Napisz funkcję, która przyjmuje 2 argumenty i zwraca \n",
    " $$\n",
    "ay\n",
    "$$\n",
    "ORAZ\n",
    "funkcję która przyjmuje 3 argumenty i zwraca\n",
    " $$\n",
    "by^n\n",
    "$$\n"
   ]
  },
  {
   "cell_type": "code",
   "execution_count": null,
   "id": "d82db8eb",
   "metadata": {},
   "outputs": [],
   "source": []
  },
  {
   "attachments": {},
   "cell_type": "markdown",
   "id": "a74ad15d",
   "metadata": {},
   "source": [
    "## Zadanie 2 (4pkt)\n",
    "Stwórz klasę Parameters, która przechowuje 4 parametry (3 liczby i tekst) podane przy inicjalizacji oraz metodę wypisującą parametry trzymane przez klasę"
   ]
  },
  {
   "cell_type": "code",
   "execution_count": null,
   "id": "df16841e",
   "metadata": {},
   "outputs": [],
   "source": []
  },
  {
   "attachments": {},
   "cell_type": "markdown",
   "id": "9bead7ce",
   "metadata": {},
   "source": [
    "## Zadanie 3 (5pkt)\n",
    "Skompiluj program data_generator a następnie uruchom go podając plik (\"settings\") z parametrami P=4, N=60 (użyj flagi \"-s\"). Sprawdź poprawność wygenerowanych danych"
   ]
  },
  {
   "cell_type": "code",
   "execution_count": null,
   "id": "738f6017",
   "metadata": {},
   "outputs": [],
   "source": []
  },
  {
   "attachments": {},
   "cell_type": "markdown",
   "id": "7e2f6c1d",
   "metadata": {},
   "source": [
    "## Zadanie 4 (4pkt)\n",
    "Stwórz Array przechowujący obiekty klasy Parameters inicjalizowane danymi wczytanymi z pliku data.dat. Upewnij się, że dane są przekazane do obiektów zgodnie z nazewnictwem w pliku data.dat a liczby są przekazane jako liczby"
   ]
  },
  {
   "cell_type": "code",
   "execution_count": null,
   "id": "eb0a0480",
   "metadata": {},
   "outputs": [],
   "source": []
  },
  {
   "attachments": {},
   "cell_type": "markdown",
   "id": "63839346",
   "metadata": {},
   "source": [
    "## Zadanie 5 (5pt)\n",
    "Rozwiąż równanie różniczkowe Bernoulliego\n",
    "$$\n",
    "\\dot{y}+ay=by^n\n",
    "$$\n",
    "dla wszystkich kombinacji parametrów trzymanych w instancjach klasy Parameters w stworzonym wcześniej arrayu, podaj te dane do zdefiniowanych wcześniej funkcji. Przyjmij warunek początkowy y0=0.48 oraz 0<t<8\n",
    "\n",
    "Podpowiedź: zwróć uwagę na składnię funkcji odeint"
   ]
  },
  {
   "cell_type": "code",
   "execution_count": null,
   "id": "35d7abd9",
   "metadata": {},
   "outputs": [],
   "source": []
  },
  {
   "attachments": {},
   "cell_type": "markdown",
   "id": "e5a6a517",
   "metadata": {},
   "source": [
    "## Zadanie 6 (3pkt)\n",
    "Stwórz wykres przedstawiający wszystkie rozwiązania z poprzedniego zadania."
   ]
  },
  {
   "cell_type": "code",
   "execution_count": null,
   "id": "5c836eee",
   "metadata": {},
   "outputs": [],
   "source": []
  },
  {
   "attachments": {},
   "cell_type": "markdown",
   "id": "140a5948",
   "metadata": {},
   "source": [
    "## Zadanie 7a (4pkt)\n",
    "Stwórz klasę Solution, która będzie przechowywać rozwiązanie równania Bernoulliego jako listę oraz parametry dla których zostało ono uzyskane. Stwórz listę zawierającą obiekty ze wszystkimi rozwiązaniami. Stwórz funkcję kodującą i dekodującą. Zserializuj dane\n",
    "## LUB \n",
    "## Zadanie 7b (5pkt)\n",
    "Stwórz klasę Solution, która będzie przechowywać rozwiązanie równania Bernoulliego jako array oraz parametry dla których zostało ono uzyskane. Stwórz listę zawierającą obiekty ze wszystkimi rozwiązaniami. Stwórz funkcję kodującą i dekodującą. Zserializuj dane"
   ]
  },
  {
   "cell_type": "code",
   "execution_count": null,
   "id": "3b0ff650",
   "metadata": {},
   "outputs": [],
   "source": []
  }
 ],
 "metadata": {
  "kernelspec": {
   "display_name": "Python 3 (ipykernel)",
   "language": "python",
   "name": "python3"
  },
  "language_info": {
   "codemirror_mode": {
    "name": "ipython",
    "version": 3
   },
   "file_extension": ".py",
   "mimetype": "text/x-python",
   "name": "python",
   "nbconvert_exporter": "python",
   "pygments_lexer": "ipython3",
   "version": "3.10.6"
  }
 },
 "nbformat": 4,
 "nbformat_minor": 5
}
